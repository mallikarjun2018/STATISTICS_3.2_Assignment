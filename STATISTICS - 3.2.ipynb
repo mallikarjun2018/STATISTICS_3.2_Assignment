{
 "cells": [
  {
   "cell_type": "markdown",
   "metadata": {},
   "source": [
    "# In one state, 52% of the voters are Republicans, and 48% are Democrats. In a second state, 47% of the voters are Republicans, and 53% are Democrats. Suppose a simple random sample of 100 voters are surveyed from each state. What is the probability that the survey will show a greater percentage of Republican voters in the second state than in the first state?\n",
    "\n",
    "\n",
    "p1(Republican voters in the first state) = 52/100 = 0.52\n",
    "p2(Republican voters in the sample from the second state) = 47/100 = 0.47\n",
    "n1(number of voters sampled from the first state) = 100\n",
    "n2 (number of voters sampled from the second state) = 100\n",
    "\n",
    "p1-p2 = 0.52 - 0.47 = 0.05.\n",
    "\n",
    "SD = sqrt( [ P1(1 - P1) / n1 ] + [ P2(1 - P2) / n2 ] )\n",
    "= sqrt{ [ (0.52)(0.48) / 100 ] + [ (0.47)(0.53) / 100 ] } \n",
    "= 0.0706\n",
    "\n",
    "Z = VALUE - MEAN / SD\n",
    "  = (0 - 0.05)/0.0706 = -0.7082\n",
    "\n",
    "probability of a z-score being -0.7082 or less is 0.24.\n",
    "The probability that the survey will show a greater percentage of Republican voters in the second state than in the first state is 0.24."
   ]
  }
 ],
 "metadata": {
  "kernelspec": {
   "display_name": "Python 3",
   "language": "python",
   "name": "python3"
  },
  "language_info": {
   "codemirror_mode": {
    "name": "ipython",
    "version": 3
   },
   "file_extension": ".py",
   "mimetype": "text/x-python",
   "name": "python",
   "nbconvert_exporter": "python",
   "pygments_lexer": "ipython3",
   "version": "3.6.4"
  }
 },
 "nbformat": 4,
 "nbformat_minor": 2
}
